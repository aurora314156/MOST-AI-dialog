{
 "cells": [
  {
   "cell_type": "code",
   "execution_count": 21,
   "metadata": {},
   "outputs": [],
   "source": [
    "# -*- coding: UTF-8 -*-\n",
    "import time\n",
    "import jieba\n",
    "import json"
   ]
  },
  {
   "cell_type": "code",
   "execution_count": 22,
   "metadata": {},
   "outputs": [],
   "source": [
    "# jieba setting\n",
    "relativePath = os.getcwd()\n",
    "jieba.set_dictionary(relativePath + '/jieba_setting/dict.txt.big')\n",
    "# add user dictionary to improve jieba cut precision\n",
    "# jieba.load_userdict(relativePath + '/jieba_setting/yourfile.txt')\n",
    "\n",
    "# stopwords setting\n",
    "stopWordsSet = set()\n",
    "with open(relativePath + '/jieba_setting/stopwords.txt', 'r') as stop:\n",
    "    for i in stop:\n",
    "        stopWordsSet.add(i.strip('\\n'))"
   ]
  },
  {
   "cell_type": "code",
   "execution_count": 23,
   "metadata": {},
   "outputs": [],
   "source": [
    "# 精確模式 ：將句子最精確地切開，叫適合文本分析, cut_all=False\n",
    "# 全模式：把句子中所有的可以成詞的詞語都掃描出來, 速度快, cut_all=True\n",
    "# 搜索引擎模式：在精確模式的基礎上對長詞再次切分，提高召回率，適合用於搜尋引擎分詞, jieba.cut_for_search(Content)            \n",
    "# call jieba api\n",
    "def jiebaCut(s):\n",
    "    words = jieba.cut(s, cut_all=False)\n",
    "    result = removeStopWords(words)\n",
    "    return result\n",
    "\n",
    "# remove stopwords\n",
    "def removeStopWords(words):\n",
    "    result = []\n",
    "    for w in words:\n",
    "        if w not in stopWordsSet:\n",
    "            result.append(w)\n",
    "    return result\n",
    "\n",
    "# define all state \n",
    "def state(s,flag):\n",
    "    nextline = 1\n",
    "    if s is None or s == \"\":\n",
    "        return flag, nextline\n",
    "    # state: 1, s[0] = C\n",
    "    if s[0] == 'C':\n",
    "        flag, nextline = 1, 0\n",
    "    # state: 2, s[0] = Q\n",
    "    elif s[0] == 'Q':\n",
    "        flag, nextline = 2, 0\n",
    "    # state: 3, s[0] = A\n",
    "    elif s[0] == 'A':\n",
    "        flag, nextline = 3, 0\n",
    "    # state: 4, do jieba cut\n",
    "    return flag, nextline"
   ]
  },
  {
   "cell_type": "code",
   "execution_count": 24,
   "metadata": {},
   "outputs": [],
   "source": [
    "ind = 0\n",
    "def outputFile(cList, qList, aList, ans):\n",
    "    content = {}\n",
    "    res = []\n",
    "    fileName = 'CQA/CQA_' + str(ind) + '.json'\n",
    "    with open(fileName, 'w') as CQA:\n",
    "        content[\"corpus\"] = cList\n",
    "        content[\"question\"] = qList\n",
    "        content[\"answer\"] = aList\n",
    "        content[\"correct_answer\"] = ans\n",
    "        CQA.write(json.dumps(content, ensure_ascii=False))"
   ]
  },
  {
   "cell_type": "code",
   "execution_count": 25,
   "metadata": {},
   "outputs": [
    {
     "name": "stderr",
     "output_type": "stream",
     "text": [
      "Building prefix dict from /home/ethan/pythonwork/ipynotebook/MOST/jieba_setting/dict.txt.big ...\n",
      "Loading model from cache /tmp/jieba.ub845031c377e450e44c5e52006afa1e4.cache\n"
     ]
    },
    {
     "name": "stdout",
     "output_type": "stream",
     "text": [
      "Start process CQA dataset\n"
     ]
    },
    {
     "name": "stderr",
     "output_type": "stream",
     "text": [
      "Loading model cost 1.501 seconds.\n",
      "Prefix dict has been built succesfully.\n"
     ]
    },
    {
     "name": "stdout",
     "output_type": "stream",
     "text": [
      "\n",
      "Total corpus numbers: 394\n",
      "Processing all CQA dataset corpus took 2.23s\n"
     ]
    }
   ],
   "source": [
    "\n",
    "sTime = time.time()\n",
    "print(\"Start process CQA dataset\")\n",
    "cNum = 0\n",
    "with open('CQA.txt', 'r') as file:\n",
    "    flag, end = 0, 0\n",
    "    cList, qList, aList = [],[],[]\n",
    "    ans = \"\"\n",
    "    for i in file.readlines():\n",
    "        s = i.strip()\n",
    "        flag, nextline = state(s,flag)\n",
    "        # one corpus process done!\n",
    "        if end == 4:\n",
    "            cNum +=1\n",
    "            ans = s\n",
    "            outputFile(cList, qList, aList, ans)\n",
    "            #print(\"Corpus: %d\" % cNum)\n",
    "            #print(\"corpus:\\n\",cList,'\\nquestion:\\n',qList,'\\nanswer:\\n',aList,'\\ncorrect ans:\\n',ans,'\\n')\n",
    "            cList, qList, aList = [],[],[]\n",
    "            flag, end = 0, 0\n",
    "            ans = \"\"\n",
    "            ind += 1\n",
    "            continue\n",
    "        # still on state\n",
    "        if nextline != 1:\n",
    "            continue\n",
    "        # on state 1, process Corpus\n",
    "        elif flag == 1:\n",
    "            cutRes = jiebaCut(s)\n",
    "            for c in cutRes:\n",
    "                cList.append(c)\n",
    "        # on state 2, process Question\n",
    "        elif flag == 2:\n",
    "            cutRes = jiebaCut(s)\n",
    "            for c in cutRes:\n",
    "                qList.append(c)\n",
    "        # on state 3, process Answer\n",
    "        elif flag == 3:\n",
    "            end += 1\n",
    "            # example: （B） 吃飯比讀書更為重要 \n",
    "            tempS = \"\"\n",
    "            skip = ['A','B','C','D','（',')']\n",
    "            check = 0\n",
    "            for j in s:\n",
    "                if check == 3:\n",
    "                    tempS += j\n",
    "                else:\n",
    "                    check += 1\n",
    "            tempS = tempS.strip()\n",
    "            cutRes = jiebaCut(tempS)\n",
    "            tempL = []\n",
    "            for c in cutRes:\n",
    "                tempL.append(c)\n",
    "            aList.append(tempL)\n",
    "            \n",
    "print(\"\\nTotal corpus numbers: %d\" % cNum)\n",
    "print(\"Processing all CQA dataset corpus took %.2fs\" % (time.time()- sTime))"
   ]
  },
  {
   "cell_type": "code",
   "execution_count": null,
   "metadata": {},
   "outputs": [],
   "source": []
  }
 ],
 "metadata": {
  "kernelspec": {
   "display_name": "Python 3",
   "language": "python",
   "name": "python3"
  },
  "language_info": {
   "codemirror_mode": {
    "name": "ipython",
    "version": 3
   },
   "file_extension": ".py",
   "mimetype": "text/x-python",
   "name": "python",
   "nbconvert_exporter": "python",
   "pygments_lexer": "ipython3",
   "version": "3.6.4"
  }
 },
 "nbformat": 4,
 "nbformat_minor": 2
}
